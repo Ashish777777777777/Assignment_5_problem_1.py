{
 "cells": [
  {
   "cell_type": "code",
   "execution_count": 4,
   "id": "3e76a9c8",
   "metadata": {},
   "outputs": [
    {
     "name": "stdout",
     "output_type": "stream",
     "text": [
      "35\n"
     ]
    }
   ],
   "source": [
    "class Point:\n",
    "    def __init__(self, x, y, z):\n",
    "        self.x = x\n",
    "        self.y = y\n",
    "        self.z = z\n",
    "        \n",
    "    def sqSum(self):\n",
    "        return self.x ** 2 + self.y ** 2 + self.z ** 2\n",
    "\n",
    "# Creating an instance of the Point class with sample properties\n",
    "point_instance = Point(1, 3, 5)\n",
    "\n",
    "# Calling the sqSum method and printing the output\n",
    "result = point_instance.sqSum()\n",
    "print(result)  "
   ]
  },
  {
   "cell_type": "code",
   "execution_count": null,
   "id": "70738219",
   "metadata": {},
   "outputs": [],
   "source": []
  }
 ],
 "metadata": {
  "kernelspec": {
   "display_name": "Python 3 (ipykernel)",
   "language": "python",
   "name": "python3"
  },
  "language_info": {
   "codemirror_mode": {
    "name": "ipython",
    "version": 3
   },
   "file_extension": ".py",
   "mimetype": "text/x-python",
   "name": "python",
   "nbconvert_exporter": "python",
   "pygments_lexer": "ipython3",
   "version": "3.10.9"
  }
 },
 "nbformat": 4,
 "nbformat_minor": 5
}
